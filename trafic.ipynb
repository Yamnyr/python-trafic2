{
 "cells": [
  {
   "cell_type": "code",
   "execution_count": 158,
   "metadata": {},
   "outputs": [
    {
     "name": "stdout",
     "output_type": "stream",
     "text": [
      "Données chargées avec succès !\n",
      "  carrier                    name\n",
      "0      9E       Endeavor Air Inc.\n",
      "1      AA  American Airlines Inc.\n",
      "2      AS    Alaska Airlines Inc.\n",
      "3      B6         JetBlue Airways\n",
      "4      DL    Delta Air Lines Inc.\n"
     ]
    }
   ],
   "source": [
    "import pandas as pd\n",
    "from matplotlib import pyplot as plt\n",
    "import seaborn as sns\n",
    "import os\n",
    "from matplotlib import pyplot as plt\n",
    "import seaborn as sns\n",
    "from dotenv import load_dotenv\n",
    "\n",
    "load_dotenv()\n",
    "\n",
    "airlines_path = os.getenv(\"AIRLINES_PATH\")\n",
    "airports_path = os.getenv(\"AIRPORTS_PATH\")\n",
    "flights_path = os.getenv(\"FLIGHTS2_PATH\")\n",
    "planes_path = os.getenv(\"PLANES_PATH\")\n",
    "weather_path = os.getenv(\"WEATHER_PATH\")\n",
    "\n",
    "try:\n",
    "    data = pd.read_json(airlines_path)\n",
    "    print(\"Données chargées avec succès !\")\n",
    "    print(data.head())\n",
    "except ValueError as e:\n",
    "    print(f\"Erreur lors de la lecture du fichier JSON : {e}\")\n",
    "except Exception as e:\n",
    "    print(f\"Une erreur s'est produite : {e}\")\n",
    "\n",
    "    \n",
    "airports_data = pd.read_excel(airports_path)\n",
    "flights_data = pd.read_excel(flights_path)\n",
    "airlines_data = pd.read_json(airlines_path)\n",
    "planes_data = pd.read_html(planes_path)[0]\n"
   ]
  },
  {
   "cell_type": "markdown",
   "metadata": {},
   "source": [
    "1.\tCombien y-a-t-il d’aéroports \n"
   ]
  },
  {
   "cell_type": "code",
   "execution_count": 159,
   "metadata": {},
   "outputs": [
    {
     "name": "stdout",
     "output_type": "stream",
     "text": [
      "Il y a un total de 1458 aéroports.\n"
     ]
    }
   ],
   "source": [
    "try:\n",
    "    unique_airports = airports_data['faa'].nunique()\n",
    "\n",
    "    print(f\"Il y a un total de {unique_airports} aéroports.\")\n",
    "except ValueError as e:\n",
    "    print(f\"Erreur lors de la lecture du fichier JSON : {e}\")\n",
    "except Exception as e:\n",
    "    print(f\"Une erreur s'est produite : {e}\")"
   ]
  },
  {
   "cell_type": "code",
   "execution_count": 160,
   "metadata": {},
   "outputs": [
    {
     "name": "stdout",
     "output_type": "stream",
     "text": [
      "Le nombre total de compagnies aériennes est : 16\n"
     ]
    }
   ],
   "source": [
    "try:\n",
    "    num_companies = airlines_data['carrier'].nunique()\n",
    "\n",
    "    print(f\"Le nombre total de compagnies aériennes est : {num_companies}\")\n",
    "\n",
    "except ValueError as e:\n",
    "    print(f\"Erreur lors de la lecture du fichier JSON : {e}\")\n",
    "except Exception as e:\n",
    "    print(f\"Une erreur s'est produite : {e}\")"
   ]
  },
  {
   "cell_type": "markdown",
   "metadata": {},
   "source": [
    "Combien y-a-t-il d’avions"
   ]
  },
  {
   "cell_type": "code",
   "execution_count": 161,
   "metadata": {},
   "outputs": [
    {
     "name": "stdout",
     "output_type": "stream",
     "text": [
      "Le nombre total d'avions est : 3322\n"
     ]
    }
   ],
   "source": [
    "try:\n",
    "    num_planes = planes_data['tailnum'].nunique()\n",
    "\n",
    "    print(f\"Le nombre total d'avions est : {num_planes}\")\n",
    "\n",
    "except ValueError as e:\n",
    "    print(f\"Erreur lors de la lecture du fichier HTML : {e}\")\n",
    "except Exception as e:\n",
    "    print(f\"Une erreur s'est produite : {e}\")"
   ]
  },
  {
   "cell_type": "code",
   "execution_count": 169,
   "metadata": {},
   "outputs": [
    {
     "name": "stdout",
     "output_type": "stream",
     "text": [
      "Colonnes disponibles dans le DataFrame :\n",
      "Index(['year', 'month', 'day', 'dep_time', 'sched_dep_time', 'dep_delay',\n",
      "       'arr_time', 'sched_arr_time', 'arr_delay', 'carrier', 'flight',\n",
      "       'tailnum', 'origin', 'dest', 'air_time', 'distance', 'hour', 'minute',\n",
      "       'time_hour'],\n",
      "      dtype='object')\n",
      "Il y a un total de 0 vols annulés.\n"
     ]
    }
   ],
   "source": [
    "try:\n",
    "    print(\"Colonnes disponibles dans le DataFrame :\")\n",
    "    print(flights_data.columns)\n",
    "\n",
    "    cancelled_flights = flights_data[\n",
    "        (flights_data['dep_time'].isna() | (flights_data['dep_time'] == (0)))\n",
    "    ]\n",
    "\n",
    "    num_cancelled_flights = cancelled_flights.shape[0]\n",
    "    print(f\"Il y a un total de {num_cancelled_flights} vols annulés.\")\n",
    "    \n",
    "    if num_cancelled_flights > 0:\n",
    "        print(cancelled_flights.head())\n",
    "\n",
    "except Exception as e:\n",
    "    print(f\"Une erreur s'est produite lors de la lecture du fichier des vols : {e}\")"
   ]
  },
  {
   "cell_type": "markdown",
   "metadata": {},
   "source": [
    "Quel est l’aéroport de départ le plus emprunté ?"
   ]
  },
  {
   "cell_type": "code",
   "execution_count": null,
   "metadata": {},
   "outputs": [],
   "source": [
    "try:\n",
    "# print(\"Colonnes disponibles dans le DataFrame :\")\n",
    "# print(flights_data.columns)\n",
    "\n",
    "    top_departure_airport = flights_data['origin'].value_counts().idxmax()\n",
    "    top_departure_count = flights_data['origin'].value_counts().max()\n",
    "\n",
    "    print(f\"L'aéroport de départ le plus emprunté est : {top_departure_airport} avec {top_departure_count} vols.\")\n",
    "\n",
    "except Exception as e:\n",
    "    print(f\"Une erreur s'est produite lors de la lecture du fichier des vols : {e}\")"
   ]
  },
  {
   "cell_type": "markdown",
   "metadata": {},
   "source": [
    "Quelles sont les 10 destinations les plus (moins) prisées (en indiquant le nom complet des destinations et non juste le code correspondant et le % corresp pour chaque destination) ? "
   ]
  },
  {
   "cell_type": "code",
   "execution_count": null,
   "metadata": {},
   "outputs": [],
   "source": [
    "try:\n",
    "\n",
    "    destination_counts = flights_data['dest'].value_counts()\n",
    "    destination_names = airports_data.set_index('faa')['name'].to_dict()\n",
    "\n",
    "    # Ajouter les noms complets des destinations au DataFrame\n",
    "    destination_counts = destination_counts.reset_index()\n",
    "    destination_counts.columns = ['dest', 'count']\n",
    "    destination_counts['name'] = destination_counts['dest'].map(destination_names)\n",
    "\n",
    "    # Calculer le pourcentage par rapport au total des vols\n",
    "    total_flights = destination_counts['count'].sum()\n",
    "    destination_counts['percentage'] = (destination_counts['count'] / total_flights) * 100\n",
    "\n",
    "    # Les 10 destinations les plus prisées\n",
    "    most_popular_destinations = destination_counts.nlargest(10, 'count')\n",
    "\n",
    "    # Les 10 destinations les moins prisées\n",
    "    least_popular_destinations = destination_counts.nsmallest(10, 'count')\n",
    "\n",
    "    # Affichage des résultats\n",
    "    print(\"Les 10 destinations les plus prisées :\")\n",
    "    for index, row in most_popular_destinations.iterrows():\n",
    "        print(f\"{row['name']} ({row['dest']}): {row['count']} vols ({row['percentage']:.2f}%)\")\n",
    "\n",
    "    print(\"\\nLes 10 destinations les moins prisées :\")\n",
    "    for index, row in least_popular_destinations.iterrows():\n",
    "        print(f\"{row['name']} ({row['dest']}): {row['count']} vols ({row['percentage']:.2f}%)\")\n",
    "\n",
    "except Exception as e:\n",
    "    print(f\"Une erreur s'est produite : {e}\")"
   ]
  },
  {
   "cell_type": "markdown",
   "metadata": {},
   "source": [
    "Quelle sont les 10 avions qui ont le plus (moins) décollé ?"
   ]
  },
  {
   "cell_type": "code",
   "execution_count": null,
   "metadata": {},
   "outputs": [],
   "source": [
    "try:\n",
    "\n",
    "    # Compter le nombre de décollages pour chaque avion\n",
    "    takeoff_counts = flights_data['tailnum'].value_counts()\n",
    "\n",
    "    # Créer un DataFrame pour faciliter la manipulation\n",
    "    takeoff_counts_df = takeoff_counts.reset_index()\n",
    "    takeoff_counts_df.columns = ['tailnum', 'takeoff_count']\n",
    "\n",
    "    # Les 10 avions ayant le plus décollé\n",
    "    most_takeoffs = takeoff_counts_df.nlargest(10, 'takeoff_count')\n",
    "\n",
    "    # Les 10 avions ayant le moins décollé\n",
    "    least_takeoffs = takeoff_counts_df.nsmallest(10, 'takeoff_count')\n",
    "\n",
    "    # Affichage des résultats\n",
    "    print(\"Les 10 avions qui ont le plus décollé :\")\n",
    "    for index, row in most_takeoffs.iterrows():\n",
    "        print(f\"Avion {row['tailnum']}: {row['takeoff_count']} décollages\")\n",
    "\n",
    "    print(\"\\nLes 10 avions qui ont le moins décollé :\")\n",
    "    for index, row in least_takeoffs.iterrows():\n",
    "        print(f\"Avion {row['tailnum']}: {row['takeoff_count']} décollages\")\n",
    "\n",
    "except Exception as e:\n",
    "    print(f\"Une erreur s'est produite lors de la lecture du fichier des vols : {e}\")"
   ]
  },
  {
   "cell_type": "code",
   "execution_count": 143,
   "metadata": {},
   "outputs": [],
   "source": [
    "# # Créer des index sur des colonnes spécifiques (facultatif)\n",
    "# flights_df.set_index('dep_time', inplace=True)\n",
    "# #airlines_df.set_index('carrier', inplace=True)\n",
    "# flights_df.set_index('tailnum', inplace=True)\n"
   ]
  },
  {
   "cell_type": "markdown",
   "metadata": {},
   "source": [
    "Combien chaque compagnie a desservi de destination\n"
   ]
  },
  {
   "cell_type": "code",
   "execution_count": null,
   "metadata": {},
   "outputs": [],
   "source": [
    "try:\n",
    "    # Compter le nombre de destinations uniques pour chaque compagnie\n",
    "    destinations_per_carrier = flights_data.groupby('carrier')['dest'].nunique().reset_index()\n",
    "\n",
    "    # Renommer les colonnes pour une meilleure compréhension\n",
    "    destinations_per_carrier.columns = ['Compagnie', 'Nombre de Destinations']\n",
    "\n",
    "    # Afficher le résultat\n",
    "    print(\"Nombre de destinations desservies par chaque compagnie :\")\n",
    "    print(destinations_per_carrier)\n",
    "\n",
    "except Exception as e:\n",
    "    print(f\"Une erreur s'est produite lors de la lecture du fichier des vols : {e}\")"
   ]
  },
  {
   "cell_type": "code",
   "execution_count": null,
   "metadata": {},
   "outputs": [],
   "source": [
    "try:\n",
    "    # Compter le nombre de destinations desservies par chaque compagnie et aéroport d'origine\n",
    "    destinations_per_carrier_origin = flights_data.groupby(['carrier', 'origin'])['dest'].nunique().reset_index()\n",
    "\n",
    "    # Renommer les colonnes pour plus de clarté\n",
    "    destinations_per_carrier_origin.columns = ['Compagnie', 'Aéroport d\\'Origine', 'Nombre de Destinations']\n",
    "\n",
    "    # Afficher le résultat\n",
    "    print(\"Nombre de destinations desservies par chaque compagnie et par aéroport d'origine :\")\n",
    "    print(destinations_per_carrier_origin)\n",
    "\n",
    "except Exception as e:\n",
    "    print(f\"Une erreur s'est produite lors de la lecture du fichier des vols : {e}\")\n"
   ]
  },
  {
   "cell_type": "markdown",
   "metadata": {},
   "source": [
    "Réaliser les graphiques adéquats qui synthétisent ces informations ? "
   ]
  },
  {
   "cell_type": "code",
   "execution_count": null,
   "metadata": {},
   "outputs": [],
   "source": [
    "try:\n",
    "    # Compter le nombre de destinations uniques pour chaque compagnie\n",
    "    destinations_per_carrier = flights_data.groupby('carrier')['dest'].nunique().reset_index()\n",
    "\n",
    "    # Renommer les colonnes pour une meilleure compréhension\n",
    "    destinations_per_carrier.columns = ['Compagnie', 'Nombre de Destinations']\n",
    "\n",
    "    # Configuration de la taille de la figure\n",
    "    plt.figure(figsize=(12, 6))\n",
    "\n",
    "    # Création d'un graphique à barres\n",
    "    sns.barplot(data=destinations_per_carrier.sort_values('Nombre de Destinations', ascending=False),\n",
    "                 x='Compagnie', y='Nombre de Destinations', palette='viridis')\n",
    "\n",
    "    # Ajout des labels et du titre\n",
    "    plt.title(\"Nombre de Destinations Desservies par Chaque Compagnie Aérienne\", fontsize=16)\n",
    "    plt.xlabel(\"Compagnie Aérienne\", fontsize=14)\n",
    "    plt.ylabel(\"Nombre de Destinations\", fontsize=14)\n",
    "    plt.xticks(rotation=45)  # Rotation des labels de l'axe des x\n",
    "    plt.grid(axis='y', linestyle='--')  # Grille sur l'axe des y\n",
    "\n",
    "    # Affichage du graphique\n",
    "    plt.tight_layout()  # Ajuster les éléments pour une meilleure présentation\n",
    "    plt.show()\n",
    "\n",
    "except Exception as e:\n",
    "    print(f\"Une erreur s'est produite lors de la lecture du fichier des vols : {e}\")"
   ]
  },
  {
   "cell_type": "markdown",
   "metadata": {},
   "source": [
    "Trouver tous les vols ayant atterri à Houston (IAH ou HOU)"
   ]
  },
  {
   "cell_type": "code",
   "execution_count": null,
   "metadata": {},
   "outputs": [],
   "source": [
    "try:\n",
    "    houston_flights = flights_data[flights_data['dest'].isin(['IAH', 'HOU'])]\n",
    "\n",
    "    print(f\"Nombre total de vols ayant atterri à Houston (IAH ou HOU) : {houston_flights.shape[0]}\")\n",
    "\n",
    "    columns_of_interest = ['year', 'month', 'day', 'dep_time', 'arr_time', \n",
    "                           'carrier', 'flight', 'origin', 'dest', 'distance']\n",
    "    houston_flights_filtered = houston_flights[columns_of_interest]\n",
    "\n",
    "    print(houston_flights_filtered.head())\n",
    "\n",
    "except Exception as e:\n",
    "    print(f\"Une erreur s'est produite lors de la lecture du fichier des vols : {e}\")"
   ]
  },
  {
   "cell_type": "markdown",
   "metadata": {},
   "source": [
    "Combien de vols partent de NYC airports vers Seattle"
   ]
  },
  {
   "cell_type": "code",
   "execution_count": null,
   "metadata": {},
   "outputs": [],
   "source": [
    "try:\n",
    "\n",
    "    # Filtrer les vols partant de NYC vers Seattle\n",
    "    nyc_airports = ['JFK', 'LGA', 'EWR']  # Aéroports de New York\n",
    "    seattle_airport = 'SEA'  # Aéroport de Seattle\n",
    "\n",
    "    # Compter les vols partant des aéroports de NYC vers Seattle\n",
    "    flights_to_seattle = flights_data[\n",
    "        (flights_data['origin'].isin(nyc_airports)) & \n",
    "        (flights_data['dest'] == seattle_airport)\n",
    "    ]\n",
    "\n",
    "    # Afficher le nombre total de vols trouvés\n",
    "    print(f\"Nombre total de vols partant de NYC vers Seattle : {flights_to_seattle.shape[0]}\")\n",
    "\n",
    "except Exception as e:\n",
    "    print(f\"Une erreur s'est produite lors de la lecture du fichier des vols : {e}\")"
   ]
  },
  {
   "cell_type": "markdown",
   "metadata": {},
   "source": [
    "Combien de vols partent de NYC airports vers Seattle, combien de compagnies desservent cette destination et combien d’avions “uniques” ? "
   ]
  },
  {
   "cell_type": "code",
   "execution_count": null,
   "metadata": {},
   "outputs": [],
   "source": [
    "try:\n",
    "    # Filtrer les vols partant de NYC vers Seattle\n",
    "    nyc_airports = ['JFK', 'LGA', 'EWR']  # Aéroports de New York\n",
    "    seattle_airport = 'SEA'  # Aéroport de Seattle\n",
    "\n",
    "    # Filtrer les vols\n",
    "    flights_to_seattle = flights_data[\n",
    "        (flights_data['origin'].isin(nyc_airports)) & \n",
    "        (flights_data['dest'] == seattle_airport)\n",
    "    ]\n",
    "\n",
    "    # Compter le nombre total de vols trouvés\n",
    "    total_flights = flights_to_seattle.shape[0]\n",
    "\n",
    "    # Compter le nombre de compagnies uniques\n",
    "    unique_carriers = flights_to_seattle['carrier'].nunique()\n",
    "\n",
    "    # Compter le nombre d'avions uniques\n",
    "    unique_planes = flights_to_seattle['tailnum'].nunique()\n",
    "\n",
    "    # Afficher les résultats\n",
    "    print(f\"Nombre total de vols partant de NYC vers Seattle : {total_flights}\")\n",
    "    print(f\"Nombre de compagnies desservant Seattle : {unique_carriers}\")\n",
    "    print(f\"Nombre d'avions uniques desservant Seattle : {unique_planes}\")\n",
    "\n",
    "except Exception as e:\n",
    "    print(f\"Une erreur s'est produite lors de la lecture du fichier des vols : {e}\")"
   ]
  },
  {
   "cell_type": "markdown",
   "metadata": {},
   "source": [
    "Trouver le nombre de vols par destination ? "
   ]
  },
  {
   "cell_type": "code",
   "execution_count": null,
   "metadata": {},
   "outputs": [],
   "source": [
    "try:\n",
    "    # Compter le nombre de vols par destination\n",
    "    flights_by_destination = flights_data['dest'].value_counts()\n",
    "\n",
    "    # Afficher les résultats\n",
    "    print(\"Nombre de vols par destination :\")\n",
    "    print(flights_by_destination)\n",
    "\n",
    "except Exception as e:\n",
    "    print(f\"Une erreur s'est produite lors de la lecture du fichier des vols : {e}\")"
   ]
  },
  {
   "cell_type": "markdown",
   "metadata": {},
   "source": [
    "Trier les vols suivant la destination, l’aéroport d’origine, la compagnie dans un ordre alphabétique croissant (en réalisant les jointures nécessaires pour obtenir les noms explicites des aéroports) ?"
   ]
  },
  {
   "cell_type": "code",
   "execution_count": null,
   "metadata": {},
   "outputs": [],
   "source": [
    "try:\n",
    "    # Renommer les colonnes des aéroports pour aligner avec les données de vols\n",
    "    # Ici on prépare la jointure avec les colonnes de 'origin' et 'dest'\n",
    "    airports_data.rename(columns={'faa': 'origin', 'name': 'origin_name'}, inplace=True)\n",
    "\n",
    "    # Jointure pour obtenir les noms des aéroports d'origine\n",
    "    flights_data = flights_data.merge(airports_data[['origin', 'origin_name']], on='origin', how='left')\n",
    "\n",
    "    # Renommer la colonne 'origin_name' pour éviter les conflits lors de la prochaine jointure\n",
    "    flights_data.rename(columns={'origin_name': 'origin_airport_name'}, inplace=True)\n",
    "\n",
    "    # Renommer les colonnes pour la jointure avec les destinations\n",
    "    airports_data.rename(columns={'origin': 'dest', 'origin_name': 'dest_name'}, inplace=True)\n",
    "\n",
    "    # Jointure pour obtenir les noms des aéroports de destination\n",
    "    flights_data = flights_data.merge(airports_data[['dest', 'dest_name']], on='dest', how='left')\n",
    "\n",
    "    # Renommer la colonne 'dest_name' pour éviter des conflits futurs\n",
    "    flights_data.rename(columns={'dest_name': 'dest_airport_name'}, inplace=True)\n",
    "\n",
    "    # Trier les données par destination, aéroport d'origine et compagnie\n",
    "    sorted_flights = flights_data.sort_values(by=['dest_airport_name', 'origin_airport_name', 'carrier'])\n",
    "\n",
    "    # Afficher les résultats triés\n",
    "    print(sorted_flights[['origin_airport_name', 'dest_airport_name', 'carrier']])\n",
    "\n",
    "except Exception as e:\n",
    "    print(f\"Une erreur s'est produite lors de la lecture des fichiers : {e}\")\n"
   ]
  },
  {
   "cell_type": "markdown",
   "metadata": {},
   "source": [
    "Quelles sont les compagnies qui n'opèrent pas sur tous les aéroports d’origine ? "
   ]
  },
  {
   "cell_type": "code",
   "execution_count": null,
   "metadata": {},
   "outputs": [],
   "source": [
    "try:\n",
    "    # Étape 1 : Identifier tous les aéroports d'origine uniques\n",
    "    unique_origins = flights_data['origin'].nunique()\n",
    "\n",
    "    # Étape 2 : Compter le nombre d'aéroports d'origine desservis par chaque compagnie\n",
    "    origins_per_carrier = flights_data.groupby('carrier')['origin'].nunique().reset_index()\n",
    "\n",
    "    # Renommer les colonnes pour plus de clarté\n",
    "    origins_per_carrier.columns = ['Compagnie', 'Nombre d\\'Aéroports Desservis']\n",
    "\n",
    "    # Étape 3 : Identifier les compagnies qui n'opèrent pas sur tous les aéroports d'origine\n",
    "    airlines_not_serving_all_origins = origins_per_carrier[origins_per_carrier['Nombre d\\'Aéroports Desservis'] < unique_origins]\n",
    "\n",
    "    # Afficher le résultat\n",
    "    print(\"Compagnies qui n'opèrent pas sur tous les aéroports d'origine :\")\n",
    "    print(airlines_not_serving_all_origins)\n",
    "\n",
    "except Exception as e:\n",
    "    print(f\"Une erreur s'est produite lors de la lecture du fichier des vols : {e}\")\n"
   ]
  },
  {
   "cell_type": "markdown",
   "metadata": {},
   "source": [
    "Quelles sont les compagnies qui desservent l’ensemble de destinations ?"
   ]
  },
  {
   "cell_type": "code",
   "execution_count": null,
   "metadata": {},
   "outputs": [],
   "source": [
    "try:\n",
    "    # Étape 1 : Identifier toutes les destinations uniques\n",
    "    unique_destinations = flights_data['dest'].nunique()\n",
    "\n",
    "    # Étape 2 : Compter le nombre de destinations uniques desservies par chaque compagnie\n",
    "    destinations_per_carrier = flights_data.groupby('carrier')['dest'].nunique().reset_index()\n",
    "\n",
    "    # Renommer les colonnes pour plus de clarté\n",
    "    destinations_per_carrier.columns = ['Compagnie', 'Nombre de Destinations Desservies']\n",
    "\n",
    "    # Étape 3 : Identifier les compagnies qui desservent toutes les destinations\n",
    "    airlines_serving_all_destinations = destinations_per_carrier[destinations_per_carrier['Nombre de Destinations Desservies'] == unique_destinations]\n",
    "\n",
    "    # Afficher le résultat\n",
    "    print(\"Compagnies qui desservent l'ensemble des destinations :\")\n",
    "    print(airlines_serving_all_destinations)\n",
    "\n",
    "except Exception as e:\n",
    "    print(f\"Une erreur s'est produite lors de la lecture du fichier des vols : {e}\")\n"
   ]
  },
  {
   "cell_type": "markdown",
   "metadata": {},
   "source": []
  },
  {
   "cell_type": "code",
   "execution_count": null,
   "metadata": {},
   "outputs": [],
   "source": [
    "try:\n",
    "    # Étape 1 : Filtrer les colonnes nécessaires\n",
    "    orig_dest_data = flights_data[['carrier', 'origin', 'dest']]\n",
    "\n",
    "    # Étape 2 : Supprimer les doublons pour obtenir l'ensemble des origines et des destinations par compagnie\n",
    "    unique_orig_dest = orig_dest_data.drop_duplicates()\n",
    "\n",
    "    # Étape 3 : Renommer les colonnes pour plus de clarté (optionnel)\n",
    "    unique_orig_dest.columns = ['Compagnie', 'Aéroport d\\'Origine', 'Aéroport de Destination']\n",
    "\n",
    "    # Afficher le tableau final\n",
    "    print(\"Tableau des origines et destinations par compagnie :\")\n",
    "    print(unique_orig_dest)\n",
    "\n",
    "except Exception as e:\n",
    "    print(f\"Une erreur s'est produite lors de la lecture du fichier des vols : {e}\")\n"
   ]
  },
  {
   "cell_type": "markdown",
   "metadata": {},
   "source": [
    "Quelles sont les destinations qui sont exclusives à certaines compagnies ? "
   ]
  },
  {
   "cell_type": "code",
   "execution_count": null,
   "metadata": {},
   "outputs": [],
   "source": [
    "try:\n",
    "    # Étape 1 : Compter le nombre de compagnies qui desservent chaque destination\n",
    "    destination_counts = flights_data.groupby('dest')['carrier'].nunique().reset_index()\n",
    "\n",
    "    # Étape 2 : Filtrer les destinations qui ne sont desservies que par une seule compagnie\n",
    "    exclusive_destinations = destination_counts[destination_counts['carrier'] == 1]\n",
    "\n",
    "    # Étape 3 : Récupérer les informations des compagnies correspondantes\n",
    "    exclusive_dest_info = flights_data[flights_data['dest'].isin(exclusive_destinations['dest'])]\n",
    "\n",
    "    # Supprimer les doublons pour obtenir un tableau unique\n",
    "    exclusive_dest_info = exclusive_dest_info[['carrier', 'dest']].drop_duplicates()\n",
    "\n",
    "    # Renommer les colonnes pour plus de clarté\n",
    "    exclusive_dest_info.columns = ['Compagnie', 'Destination']\n",
    "\n",
    "    # Afficher le résultat\n",
    "    print(\"Destinations exclusives à certaines compagnies :\")\n",
    "    print(exclusive_dest_info)\n",
    "\n",
    "except Exception as e:\n",
    "    print(f\"Une erreur s'est produite lors de la lecture du fichier des vols : {e}\")\n"
   ]
  },
  {
   "cell_type": "markdown",
   "metadata": {},
   "source": [
    "Filtrer le vol pour trouver ceux exploités par United, American ou Delta ?"
   ]
  },
  {
   "cell_type": "code",
   "execution_count": null,
   "metadata": {},
   "outputs": [],
   "source": [
    "try:\n",
    "    # Liste des compagnies à filtrer\n",
    "    airlines_to_filter = ['UA', 'AA', 'DL']  # Codes IATA pour United, American et Delta\n",
    "\n",
    "    # Filtrer les vols exploités par United, American ou Delta\n",
    "    filtered_flights = flights_data[flights_data['carrier'].isin(airlines_to_filter)]\n",
    "\n",
    "    # Afficher le nombre de vols trouvés et les premiers résultats\n",
    "    print(f\"Nombre total de vols exploités par United, American ou Delta : {filtered_flights.shape[0]}\")\n",
    "    \n",
    "    # Afficher les détails des premiers vols filtrés (optionnel)\n",
    "    print(filtered_flights.head())\n",
    "\n",
    "except Exception as e:\n",
    "    print(f\"Une erreur s'est produite lors de la lecture du fichier des vols : {e}\")\n"
   ]
  }
 ],
 "metadata": {
  "kernelspec": {
   "display_name": "base",
   "language": "python",
   "name": "python3"
  },
  "language_info": {
   "codemirror_mode": {
    "name": "ipython",
    "version": 3
   },
   "file_extension": ".py",
   "mimetype": "text/x-python",
   "name": "python",
   "nbconvert_exporter": "python",
   "pygments_lexer": "ipython3",
   "version": "3.12.4"
  }
 },
 "nbformat": 4,
 "nbformat_minor": 2
}
