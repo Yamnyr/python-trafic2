{
 "cells": [
  {
   "cell_type": "code",
   "execution_count": 250,
   "metadata": {},
   "outputs": [
    {
     "name": "stdout",
     "output_type": "stream",
     "text": [
      "Données chargées avec succès !\n",
      "  carrier                    name\n",
      "0      9E       Endeavor Air Inc.\n",
      "1      AA  American Airlines Inc.\n",
      "2      AS    Alaska Airlines Inc.\n",
      "3      B6         JetBlue Airways\n",
      "4      DL    Delta Air Lines Inc.\n"
     ]
    }
   ],
   "source": [
    "import pandas as pd\n",
    "from matplotlib import pyplot as plt\n",
    "import seaborn as sns\n",
    "import os\n",
    "from matplotlib import pyplot as plt\n",
    "import seaborn as sns\n",
    "import numpy as np\n",
    "from dotenv import load_dotenv\n",
    "\n",
    "load_dotenv()\n",
    "\n",
    "airlines_path = os.getenv(\"AIRLINES_PATH\")\n",
    "airports_path = os.getenv(\"AIRPORTS_PATH\")\n",
    "flights_path = os.getenv(\"FLIGHTS2_PATH\")\n",
    "planes_path = os.getenv(\"PLANES_PATH\")\n",
    "weather_path = os.getenv(\"WEATHER_PATH\")\n",
    "\n",
    "try:\n",
    "    data = pd.read_json(airlines_path)\n",
    "    print(\"Données chargées avec succès !\")\n",
    "    print(data.head())\n",
    "except ValueError as e:\n",
    "    print(f\"Erreur lors de la lecture du fichier JSON : {e}\")\n",
    "except Exception as e:\n",
    "    print(f\"Une erreur s'est produite : {e}\")\n",
    "\n",
    "    \n",
    "airports_data = pd.read_excel(airports_path)\n",
    "flights_data = pd.read_excel(flights_path)\n",
    "airlines_data = pd.read_json(airlines_path)\n",
    "planes_data = pd.read_html(planes_path)[0]\n"
   ]
  },
  {
   "cell_type": "markdown",
   "metadata": {},
   "source": [
    "1.\tCombien y-a-t-il d’aéroports \n"
   ]
  },
  {
   "cell_type": "code",
   "execution_count": 251,
   "metadata": {},
   "outputs": [
    {
     "name": "stdout",
     "output_type": "stream",
     "text": [
      "Il y a un total de 1458 aéroports.\n"
     ]
    }
   ],
   "source": [
    "try:\n",
    "    unique_airports = airports_data['faa'].nunique()\n",
    "\n",
    "    print(f\"Il y a un total de {unique_airports} aéroports.\")\n",
    "except ValueError as e:\n",
    "    print(f\"Erreur lors de la lecture du fichier JSON : {e}\")\n",
    "except Exception as e:\n",
    "    print(f\"Une erreur s'est produite : {e}\")"
   ]
  },
  {
   "cell_type": "code",
   "execution_count": 252,
   "metadata": {},
   "outputs": [
    {
     "name": "stdout",
     "output_type": "stream",
     "text": [
      "Le nombre total de compagnies aériennes est : 16\n"
     ]
    }
   ],
   "source": [
    "try:\n",
    "    num_companies = airlines_data['carrier'].nunique()\n",
    "\n",
    "    print(f\"Le nombre total de compagnies aériennes est : {num_companies}\")\n",
    "\n",
    "except ValueError as e:\n",
    "    print(f\"Erreur lors de la lecture du fichier JSON : {e}\")\n",
    "except Exception as e:\n",
    "    print(f\"Une erreur s'est produite : {e}\")"
   ]
  },
  {
   "cell_type": "markdown",
   "metadata": {},
   "source": [
    "Combien y-a-t-il d’avions"
   ]
  },
  {
   "cell_type": "code",
   "execution_count": 253,
   "metadata": {},
   "outputs": [
    {
     "name": "stdout",
     "output_type": "stream",
     "text": [
      "Le nombre total d'avions est : 3322\n"
     ]
    }
   ],
   "source": [
    "try:\n",
    "    num_planes = planes_data['tailnum'].nunique()\n",
    "\n",
    "    print(f\"Le nombre total d'avions est : {num_planes}\")\n",
    "\n",
    "except ValueError as e:\n",
    "    print(f\"Erreur lors de la lecture du fichier HTML : {e}\")\n",
    "except Exception as e:\n",
    "    print(f\"Une erreur s'est produite : {e}\")"
   ]
  },
  {
   "cell_type": "code",
   "execution_count": 254,
   "metadata": {},
   "outputs": [
    {
     "name": "stdout",
     "output_type": "stream",
     "text": [
      "Il y a un total de 6481 vols annulé.\n"
     ]
    }
   ],
   "source": [
    "try:\n",
    "    # Remplacer les chaînes vides par NaN\n",
    "    flights_data.replace('', np.nan, inplace=True)\n",
    "\n",
    "    # Convertir les colonnes en numérique, en remplaçant les erreurs par NaN\n",
    "    flights_data['dep_time'] = pd.to_numeric(flights_data['dep_time'], errors='coerce')\n",
    "\n",
    "    # Compter le nombre de vols sans dep_time\n",
    "    num_no_dep_time = flights_data['dep_time'].isna().sum()\n",
    "    \n",
    "    # Afficher le nombre total de vols n'ayant pas de dep_time\n",
    "    print(f\"Il y a un total de {num_no_dep_time} vols annulé.\")\n",
    "\n",
    "except Exception as e:\n",
    "    print(f\"Une erreur s'est produite lors de la lecture du fichier des vols : {e}\")"
   ]
  },
  {
   "cell_type": "code",
   "execution_count": 255,
   "metadata": {},
   "outputs": [
    {
     "name": "stdout",
     "output_type": "stream",
     "text": [
      "L'aéroport de départ le plus emprunté est : EWR avec 91241 vols.\n"
     ]
    }
   ],
   "source": [
    "try:\n",
    "# print(\"Colonnes disponibles dans le DataFrame :\")\n",
    "# print(flights_data.columns)\n",
    "\n",
    "    top_departure_airport = flights_data['origin'].value_counts().idxmax()\n",
    "    top_departure_count = flights_data['origin'].value_counts().max()\n",
    "\n",
    "    print(f\"L'aéroport de départ le plus emprunté est : {top_departure_airport} avec {top_departure_count} vols.\")\n",
    "\n",
    "except Exception as e:\n",
    "    print(f\"Une erreur s'est produite lors de la lecture du fichier des vols : {e}\")"
   ]
  },
  {
   "cell_type": "markdown",
   "metadata": {},
   "source": [
    "Quelles sont les 10 destinations les plus (moins) prisées (en indiquant le nom complet des destinations et non juste le code correspondant et le % corresp pour chaque destination) ? "
   ]
  },
  {
   "cell_type": "code",
   "execution_count": 256,
   "metadata": {},
   "outputs": [
    {
     "name": "stdout",
     "output_type": "stream",
     "text": [
      "Les 10 destinations les plus prisées :\n",
      "Hartsfield Jackson Atlanta Intl (ATL): 12946 vols (5.12%)\n",
      "Chicago Ohare Intl (ORD): 12654 vols (5.01%)\n",
      "Los Angeles Intl (LAX): 11895 vols (4.71%)\n",
      "General Edward Lawrence Logan Intl (BOS): 11560 vols (4.57%)\n",
      "Orlando Intl (MCO): 10637 vols (4.21%)\n",
      "Charlotte Douglas Intl (CLT): 10448 vols (4.13%)\n",
      "San Francisco Intl (SFO): 9729 vols (3.85%)\n",
      "Fort Lauderdale Hollywood Intl (FLL): 9443 vols (3.74%)\n",
      "Miami Intl (MIA): 8938 vols (3.54%)\n",
      "Ronald Reagan Washington Natl (DCA): 7386 vols (2.92%)\n",
      "\n",
      "Les 10 destinations les moins prisées :\n",
      "Blue Grass (LEX): 1 vols (0.00%)\n",
      "South Bend Rgnl (SBN): 4 vols (0.00%)\n",
      "Montrose Regional Airport (MTJ): 15 vols (0.01%)\n",
      "Yampa Valley (HDN): 15 vols (0.01%)\n",
      "Cherry Capital Airport (TVC): 16 vols (0.01%)\n",
      "Key West Intl (EYW): 17 vols (0.01%)\n",
      "Palm Springs Intl (PSP): 19 vols (0.01%)\n",
      "Gallatin Field (BZN): 20 vols (0.01%)\n",
      "Jackson Hole Airport (JAC): 25 vols (0.01%)\n",
      "Charlottesville-Albemarle (CHO): 31 vols (0.01%)\n"
     ]
    }
   ],
   "source": [
    "try:\n",
    "\n",
    "    destination_counts = flights_data['dest'].value_counts()\n",
    "    destination_names = airports_data.set_index('faa')['name'].to_dict()\n",
    "\n",
    "    destination_counts = destination_counts.reset_index()\n",
    "    destination_counts.columns = ['dest', 'count']\n",
    "    destination_counts['name'] = destination_counts['dest'].map(destination_names)\n",
    "\n",
    "    total_flights = destination_counts['count'].sum()\n",
    "    destination_counts['percentage'] = (destination_counts['count'] / total_flights) * 100\n",
    "\n",
    "    most_popular_destinations = destination_counts.nlargest(10, 'count')\n",
    "\n",
    "    least_popular_destinations = destination_counts.nsmallest(10, 'count')\n",
    "\n",
    "    print(\"Les 10 destinations les plus prisées :\")\n",
    "    for index, row in most_popular_destinations.iterrows():\n",
    "        print(f\"{row['name']} ({row['dest']}): {row['count']} vols ({row['percentage']:.2f}%)\")\n",
    "\n",
    "    print(\"\\nLes 10 destinations les moins prisées :\")\n",
    "    for index, row in least_popular_destinations.iterrows():\n",
    "        print(f\"{row['name']} ({row['dest']}): {row['count']} vols ({row['percentage']:.2f}%)\")\n",
    "\n",
    "except Exception as e:\n",
    "    print(f\"Une erreur s'est produite : {e}\")"
   ]
  },
  {
   "cell_type": "markdown",
   "metadata": {},
   "source": [
    "Quelle sont les 10 avions qui ont le plus (moins) décollé ?"
   ]
  },
  {
   "cell_type": "code",
   "execution_count": 257,
   "metadata": {},
   "outputs": [
    {
     "name": "stdout",
     "output_type": "stream",
     "text": [
      "Les 10 avions qui ont le plus décollé :\n",
      "Avion  : 1973 décollages\n",
      "Avion N725MQ: 443 décollages\n",
      "Avion N723MQ: 394 décollages\n",
      "Avion N713MQ: 385 décollages\n",
      "Avion N722MQ: 378 décollages\n",
      "Avion N711MQ: 376 décollages\n",
      "Avion N258JB: 332 décollages\n",
      "Avion N353JB: 316 décollages\n",
      "Avion N542MQ: 310 décollages\n",
      "Avion N351JB: 310 décollages\n",
      "\n",
      "Les 10 avions qui ont le moins décollé :\n",
      "Avion N7ALAA: 1 décollages\n",
      "Avion N820AW: 1 décollages\n",
      "Avion N826AW: 1 décollages\n",
      "Avion N750AT: 1 décollages\n",
      "Avion N838MH: 1 décollages\n",
      "Avion N810AW: 1 décollages\n",
      "Avion N587NW: 1 décollages\n",
      "Avion N534AS: 1 décollages\n",
      "Avion N913EV: 1 décollages\n",
      "Avion N5DJAA: 1 décollages\n"
     ]
    }
   ],
   "source": [
    "try:\n",
    "\n",
    "    takeoff_counts = flights_data['tailnum'].value_counts()\n",
    "\n",
    "    takeoff_counts_df = takeoff_counts.reset_index()\n",
    "    takeoff_counts_df.columns = ['tailnum', 'takeoff_count']\n",
    "\n",
    "    most_takeoffs = takeoff_counts_df.nlargest(10, 'takeoff_count')\n",
    "\n",
    "    least_takeoffs = takeoff_counts_df.nsmallest(10, 'takeoff_count')\n",
    "\n",
    "    print(\"Les 10 avions qui ont le plus décollé :\")\n",
    "    for index, row in most_takeoffs.iterrows():\n",
    "        print(f\"Avion {row['tailnum']}: {row['takeoff_count']} décollages\")\n",
    "\n",
    "    print(\"\\nLes 10 avions qui ont le moins décollé :\")\n",
    "    for index, row in least_takeoffs.iterrows():\n",
    "        print(f\"Avion {row['tailnum']}: {row['takeoff_count']} décollages\")\n",
    "\n",
    "except Exception as e:\n",
    "    print(f\"Une erreur s'est produite lors de la lecture du fichier des vols : {e}\")"
   ]
  },
  {
   "cell_type": "code",
   "execution_count": 258,
   "metadata": {},
   "outputs": [],
   "source": [
    "# # Créer des index sur des colonnes spécifiques (facultatif)\n",
    "# flights_df.set_index('dep_time', inplace=True)\n",
    "# #airlines_df.set_index('carrier', inplace=True)\n",
    "# flights_df.set_index('tailnum', inplace=True)\n"
   ]
  },
  {
   "cell_type": "code",
   "execution_count": 259,
   "metadata": {},
   "outputs": [
    {
     "name": "stdout",
     "output_type": "stream",
     "text": [
      "Il y a un total de 1458 aéroports.\n"
     ]
    }
   ],
   "source": [
    "try:\n",
    "    unique_airports = airports_data['faa'].nunique()\n",
    "\n",
    "    print(f\"Il y a un total de {unique_airports} aéroports.\")\n",
    "except ValueError as e:\n",
    "    print(f\"Erreur lors de la lecture du fichier JSON : {e}\")\n",
    "except Exception as e:\n",
    "    print(f\"Une erreur s'est produite : {e}\")"
   ]
  },
  {
   "cell_type": "code",
   "execution_count": 260,
   "metadata": {},
   "outputs": [
    {
     "name": "stdout",
     "output_type": "stream",
     "text": [
      "Le nombre total de compagnies aériennes est : 16\n"
     ]
    }
   ],
   "source": [
    "try:\n",
    "    num_companies = airlines_data['carrier'].nunique()\n",
    "\n",
    "    print(f\"Le nombre total de compagnies aériennes est : {num_companies}\")\n",
    "\n",
    "except ValueError as e:\n",
    "    print(f\"Erreur lors de la lecture du fichier JSON : {e}\")\n",
    "except Exception as e:\n",
    "    print(f\"Une erreur s'est produite : {e}\")"
   ]
  },
  {
   "cell_type": "code",
   "execution_count": 261,
   "metadata": {},
   "outputs": [
    {
     "name": "stdout",
     "output_type": "stream",
     "text": [
      "Le nombre total d'avions est : 3322\n"
     ]
    }
   ],
   "source": [
    "try:\n",
    "    num_planes = planes_data['tailnum'].nunique()\n",
    "\n",
    "    print(f\"Le nombre total d'avions est : {num_planes}\")\n",
    "\n",
    "except ValueError as e:\n",
    "    print(f\"Erreur lors de la lecture du fichier HTML : {e}\")\n",
    "except Exception as e:\n",
    "    print(f\"Une erreur s'est produite : {e}\")"
   ]
  },
  {
   "cell_type": "code",
   "execution_count": 262,
   "metadata": {},
   "outputs": [
    {
     "name": "stdout",
     "output_type": "stream",
     "text": [
      "Il y a un total de 6481 vols annulé.\n"
     ]
    }
   ],
   "source": [
    "try:\n",
    "    # flights_data.replace('', np.nan, inplace=True)\n",
    "\n",
    "    flights_data['dep_time'] = pd.to_numeric(flights_data['dep_time'], errors='coerce')\n",
    "\n",
    "    num_no_dep_time = flights_data['dep_time'].isna().sum()\n",
    "    \n",
    "    print(f\"Il y a un total de {num_no_dep_time} vols annulé.\")\n",
    "\n",
    "except Exception as e:\n",
    "    print(f\"Une erreur s'est produite lors de la lecture du fichier des vols : {e}\")"
   ]
  },
  {
   "cell_type": "markdown",
   "metadata": {},
   "source": [
    "Quel est l’aéroport de départ le plus emprunté ?"
   ]
  },
  {
   "cell_type": "markdown",
   "metadata": {},
   "source": [
    "Combien chaque compagnie a desservi de destination\n"
   ]
  },
  {
   "cell_type": "code",
   "execution_count": 263,
   "metadata": {},
   "outputs": [
    {
     "name": "stdout",
     "output_type": "stream",
     "text": [
      "Nombre de destinations desservies par chaque compagnie :\n",
      "   Compagnie  Nombre de Destinations\n",
      "0         9E                      47\n",
      "1         AA                      19\n",
      "2         AS                       1\n",
      "3         B6                      42\n",
      "4         DL                      40\n",
      "5         EV                      61\n",
      "6         F9                       1\n",
      "7         FL                       3\n",
      "8         HA                       1\n",
      "9         MQ                      20\n",
      "10        OO                       4\n",
      "11        UA                      45\n",
      "12        US                       5\n",
      "13        VX                       5\n",
      "14        WN                      11\n",
      "15        YV                       3\n"
     ]
    }
   ],
   "source": [
    "try:\n",
    "    destinations_per_carrier = flights_data.groupby('carrier')['dest'].nunique().reset_index()\n",
    "\n",
    "    destinations_per_carrier.columns = ['Compagnie', 'Nombre de Destinations']\n",
    "\n",
    "    print(\"Nombre de destinations desservies par chaque compagnie :\")\n",
    "    print(destinations_per_carrier)\n",
    "\n",
    "except Exception as e:\n",
    "    print(f\"Une erreur s'est produite lors de la lecture du fichier des vols : {e}\")"
   ]
  },
  {
   "cell_type": "code",
   "execution_count": 264,
   "metadata": {},
   "outputs": [
    {
     "name": "stdout",
     "output_type": "stream",
     "text": [
      "Nombre de destinations desservies par chaque compagnie et par aéroport d'origine :\n",
      "   Compagnie Aéroport d'Origine  Nombre de Destinations\n",
      "0         9E                EWR                       4\n",
      "1         9E                JFK                      34\n",
      "2         9E                LGA                      36\n",
      "3         AA                EWR                       3\n",
      "4         AA                JFK                      17\n",
      "5         AA                LGA                       5\n",
      "6         AS                EWR                       1\n",
      "7         B6                EWR                       7\n",
      "8         B6                JFK                      42\n",
      "9         B6                LGA                       6\n",
      "10        DL                EWR                       4\n",
      "11        DL                JFK                      29\n",
      "12        DL                LGA                      22\n",
      "13        EV                EWR                      53\n",
      "14        EV                JFK                       3\n",
      "15        EV                LGA                      45\n",
      "16        F9                LGA                       1\n",
      "17        FL                LGA                       3\n",
      "18        HA                JFK                       1\n",
      "19        MQ                EWR                       1\n",
      "20        MQ                JFK                      11\n",
      "21        MQ                LGA                      12\n",
      "22        OO                EWR                       2\n",
      "23        OO                LGA                       2\n",
      "24        UA                EWR                      45\n",
      "25        UA                JFK                       2\n",
      "26        UA                LGA                       4\n",
      "27        US                EWR                       2\n",
      "28        US                JFK                       3\n",
      "29        US                LGA                       4\n",
      "30        VX                EWR                       2\n",
      "31        VX                JFK                       5\n",
      "32        WN                EWR                       9\n",
      "33        WN                LGA                       8\n",
      "34        YV                LGA                       3\n"
     ]
    }
   ],
   "source": [
    "try:\n",
    "    destinations_per_carrier_origin = flights_data.groupby(['carrier', 'origin'])['dest'].nunique().reset_index()\n",
    "\n",
    "    destinations_per_carrier_origin.columns = ['Compagnie', 'Aéroport d\\'Origine', 'Nombre de Destinations']\n",
    "\n",
    "    print(\"Nombre de destinations desservies par chaque compagnie et par aéroport d'origine :\")\n",
    "    print(destinations_per_carrier_origin)\n",
    "\n",
    "except Exception as e:\n",
    "    print(f\"Une erreur s'est produite lors de la lecture du fichier des vols : {e}\")\n"
   ]
  },
  {
   "cell_type": "markdown",
   "metadata": {},
   "source": [
    "Réaliser les graphiques adéquats qui synthétisent ces informations ? "
   ]
  },
  {
   "cell_type": "code",
   "execution_count": 265,
   "metadata": {},
   "outputs": [
    {
     "name": "stderr",
     "output_type": "stream",
     "text": [
      "C:\\Users\\Quentin\\AppData\\Local\\Temp\\ipykernel_579672\\1659284715.py:8: FutureWarning: \n",
      "\n",
      "Passing `palette` without assigning `hue` is deprecated and will be removed in v0.14.0. Assign the `x` variable to `hue` and set `legend=False` for the same effect.\n",
      "\n",
      "  sns.barplot(data=destinations_per_carrier.sort_values('Nombre de Destinations', ascending=False),\n"
     ]
    },
    {
     "data": {
      "image/png": "[encoded data removed]",
      "text/plain": [
       "<Figure size 1200x600 with 1 Axes>"
      ]
     },
     "metadata": {},
     "output_type": "display_data"
    }
   ],
   "source": [
    "try:\n",
    "    destinations_per_carrier = flights_data.groupby('carrier')['dest'].nunique().reset_index()\n",
    "\n",
    "    destinations_per_carrier.columns = ['Compagnie', 'Nombre de Destinations']\n",
    "\n",
    "    plt.figure(figsize=(12, 6))\n",
    "\n",
    "    sns.barplot(data=destinations_per_carrier.sort_values('Nombre de Destinations', ascending=False),\n",
    "                 x='Compagnie', y='Nombre de Destinations', palette='viridis')\n",
    "\n",
    "    plt.title(\"Nombre de Destinations Desservies par Chaque Compagnie Aérienne\", fontsize=16)\n",
    "    plt.xlabel(\"Compagnie Aérienne\", fontsize=14)\n",
    "    plt.ylabel(\"Nombre de Destinations\", fontsize=14)\n",
    "\n",
    "    plt.tight_layout()\n",
    "    plt.show()\n",
    "\n",
    "except Exception as e:\n",
    "    print(f\"Une erreur s'est produite lors de la lecture du fichier des vols : {e}\")"
   ]
  },
  {
   "cell_type": "markdown",
   "metadata": {},
   "source": [
    "Trouver tous les vols ayant atterri à Houston (IAH ou HOU)"
   ]
  },
  {
   "cell_type": "code",
   "execution_count": 266,
   "metadata": {},
   "outputs": [
    {
     "name": "stdout",
     "output_type": "stream",
     "text": [
      "Nombre total de vols ayant atterri à Houston (IAH ou HOU) : 6958\n",
      "    year  month  day  dep_time arr_time carrier  flight origin dest  distance\n",
      "0   2021      1    1     517.0      830      UA    1545    EWR  IAH      1400\n",
      "1   2021      1    1     533.0      850      UA    1714    LGA  IAH      1416\n",
      "32  2021      1    1     623.0      933      UA     496    LGA  IAH      1416\n",
      "81  2021      1    1     728.0     1041      UA     473    LGA  IAH      1416\n",
      "89  2021      1    1     739.0     1104      UA    1479    EWR  IAH      1400\n"
     ]
    }
   ],
   "source": [
    "try:\n",
    "    houston_flights = flights_data[flights_data['dest'].isin(['IAH', 'HOU'])]\n",
    "\n",
    "    print(f\"Nombre total de vols ayant atterri à Houston (IAH ou HOU) : {houston_flights.shape[0]}\")\n",
    "\n",
    "    columns_of_interest = ['year', 'month', 'day', 'dep_time', 'arr_time', \n",
    "                           'carrier', 'flight', 'origin', 'dest', 'distance']\n",
    "    houston_flights_filtered = houston_flights[columns_of_interest]\n",
    "\n",
    "    print(houston_flights_filtered.head())\n",
    "\n",
    "except Exception as e:\n",
    "    print(f\"Une erreur s'est produite lors de la lecture du fichier des vols : {e}\")"
   ]
  },
  {
   "cell_type": "markdown",
   "metadata": {},
   "source": [
    "Combien de vols partent de NYC airports vers Seattle"
   ]
  },
  {
   "cell_type": "code",
   "execution_count": 267,
   "metadata": {},
   "outputs": [
    {
     "name": "stdout",
     "output_type": "stream",
     "text": [
      "Nombre total de vols partant de NYC vers Seattle : 2736\n"
     ]
    }
   ],
   "source": [
    "try:\n",
    "\n",
    "    # Filtrer les vols partant de NYC vers Seattle\n",
    "    nyc_airports = ['JFK', 'LGA', 'EWR']  # Aéroports de New York\n",
    "    seattle_airport = 'SEA'  # Aéroport de Seattle\n",
    "\n",
    "    # Compter les vols partant des aéroports de NYC vers Seattle\n",
    "    flights_to_seattle = flights_data[\n",
    "        (flights_data['origin'].isin(nyc_airports)) & \n",
    "        (flights_data['dest'] == seattle_airport)\n",
    "    ]\n",
    "\n",
    "    # Afficher le nombre total de vols trouvés\n",
    "    print(f\"Nombre total de vols partant de NYC vers Seattle : {flights_to_seattle.shape[0]}\")\n",
    "\n",
    "except Exception as e:\n",
    "    print(f\"Une erreur s'est produite lors de la lecture du fichier des vols : {e}\")"
   ]
  },
  {
   "cell_type": "markdown",
   "metadata": {},
   "source": [
    "Combien de vols partent de NYC airports vers Seattle, combien de compagnies desservent cette destination et combien d’avions “uniques” ? "
   ]
  },
  {
   "cell_type": "code",
   "execution_count": 268,
   "metadata": {},
   "outputs": [
    {
     "name": "stdout",
     "output_type": "stream",
     "text": [
      "Nombre total de vols partant de NYC vers Seattle : 2736\n",
      "Nombre de compagnies desservant Seattle : 5\n",
      "Nombre d'avions uniques desservant Seattle : 857\n"
     ]
    }
   ],
   "source": [
    "try:\n",
    "    # Filtrer les vols partant de NYC vers Seattle\n",
    "    nyc_airports = ['JFK', 'LGA', 'EWR']  # Aéroports de New York\n",
    "    seattle_airport = 'SEA'  # Aéroport de Seattle\n",
    "\n",
    "    # Filtrer les vols\n",
    "    flights_to_seattle = flights_data[\n",
    "        (flights_data['origin'].isin(nyc_airports)) & \n",
    "        (flights_data['dest'] == seattle_airport)\n",
    "    ]\n",
    "\n",
    "    # Compter le nombre total de vols trouvés\n",
    "    total_flights = flights_to_seattle.shape[0]\n",
    "\n",
    "    # Compter le nombre de compagnies uniques\n",
    "    unique_carriers = flights_to_seattle['carrier'].nunique()\n",
    "\n",
    "    # Compter le nombre d'avions uniques\n",
    "    unique_planes = flights_to_seattle['tailnum'].nunique()\n",
    "\n",
    "    # Afficher les résultats\n",
    "    print(f\"Nombre total de vols partant de NYC vers Seattle : {total_flights}\")\n",
    "    print(f\"Nombre de compagnies desservant Seattle : {unique_carriers}\")\n",
    "    print(f\"Nombre d'avions uniques desservant Seattle : {unique_planes}\")\n",
    "\n",
    "except Exception as e:\n",
    "    print(f\"Une erreur s'est produite lors de la lecture du fichier des vols : {e}\")"
   ]
  },
  {
   "cell_type": "markdown",
   "metadata": {},
   "source": [
    "Trouver le nombre de vols par destination ? "
   ]
  },
  {
   "cell_type": "code",
   "execution_count": 269,
   "metadata": {},
   "outputs": [
    {
     "name": "stdout",
     "output_type": "stream",
     "text": [
      "Nombre de vols par destination :\n",
      "dest\n",
      "ATL    12946\n",
      "ORD    12654\n",
      "LAX    11895\n",
      "BOS    11560\n",
      "MCO    10637\n",
      "       ...  \n",
      "TVC       16\n",
      "MTJ       15\n",
      "HDN       15\n",
      "SBN        4\n",
      "LEX        1\n",
      "Name: count, Length: 103, dtype: int64\n"
     ]
    }
   ],
   "source": [
    "try:\n",
    "    # Compter le nombre de vols par destination\n",
    "    flights_by_destination = flights_data['dest'].value_counts()\n",
    "\n",
    "    # Afficher les résultats\n",
    "    print(\"Nombre de vols par destination :\")\n",
    "    print(flights_by_destination)\n",
    "\n",
    "except Exception as e:\n",
    "    print(f\"Une erreur s'est produite lors de la lecture du fichier des vols : {e}\")"
   ]
  },
  {
   "cell_type": "markdown",
   "metadata": {},
   "source": [
    "Trier les vols suivant la destination, l’aéroport d’origine, la compagnie dans un ordre alphabétique croissant (en réalisant les jointures nécessaires pour obtenir les noms explicites des aéroports) ?"
   ]
  },
  {
   "cell_type": "code",
   "execution_count": 270,
   "metadata": {},
   "outputs": [
    {
     "name": "stdout",
     "output_type": "stream",
     "text": [
      "        origin_airport_name              dest_airport_name carrier\n",
      "288              La Guardia  Akron Canton Regional Airport      FL\n",
      "759              La Guardia  Akron Canton Regional Airport      FL\n",
      "1195             La Guardia  Akron Canton Regional Airport      FL\n",
      "1691             La Guardia  Akron Canton Regional Airport      FL\n",
      "2126             La Guardia  Akron Canton Regional Airport      FL\n",
      "...                     ...                            ...     ...\n",
      "251666  Newark Liberty Intl                            NaN      UA\n",
      "251842  Newark Liberty Intl                            NaN      UA\n",
      "252247  Newark Liberty Intl                            NaN      UA\n",
      "252285  Newark Liberty Intl                            NaN      UA\n",
      "252619  Newark Liberty Intl                            NaN      UA\n",
      "\n",
      "[252704 rows x 3 columns]\n"
     ]
    }
   ],
   "source": [
    "try:\n",
    "    # Renommer les colonnes des aéroports pour aligner avec les données de vols\n",
    "    # Ici on prépare la jointure avec les colonnes de 'origin' et 'dest'\n",
    "    airports_data.rename(columns={'faa': 'origin', 'name': 'origin_name'}, inplace=True)\n",
    "\n",
    "    # Jointure pour obtenir les noms des aéroports d'origine\n",
    "    flights_data = flights_data.merge(airports_data[['origin', 'origin_name']], on='origin', how='left')\n",
    "\n",
    "    # Renommer la colonne 'origin_name' pour éviter les conflits lors de la prochaine jointure\n",
    "    flights_data.rename(columns={'origin_name': 'origin_airport_name'}, inplace=True)\n",
    "\n",
    "    # Renommer les colonnes pour la jointure avec les destinations\n",
    "    airports_data.rename(columns={'origin': 'dest', 'origin_name': 'dest_name'}, inplace=True)\n",
    "\n",
    "    # Jointure pour obtenir les noms des aéroports de destination\n",
    "    flights_data = flights_data.merge(airports_data[['dest', 'dest_name']], on='dest', how='left')\n",
    "\n",
    "    # Renommer la colonne 'dest_name' pour éviter des conflits futurs\n",
    "    flights_data.rename(columns={'dest_name': 'dest_airport_name'}, inplace=True)\n",
    "\n",
    "    # Trier les données par destination, aéroport d'origine et compagnie\n",
    "    sorted_flights = flights_data.sort_values(by=['dest_airport_name', 'origin_airport_name', 'carrier'])\n",
    "\n",
    "    # Afficher les résultats triés\n",
    "    print(sorted_flights[['origin_airport_name', 'dest_airport_name', 'carrier']])\n",
    "\n",
    "except Exception as e:\n",
    "    print(f\"Une erreur s'est produite lors de la lecture des fichiers : {e}\")\n"
   ]
  },
  {
   "cell_type": "markdown",
   "metadata": {},
   "source": [
    "Quelles sont les compagnies qui n'opèrent pas sur tous les aéroports d’origine ? "
   ]
  },
  {
   "cell_type": "code",
   "execution_count": 271,
   "metadata": {},
   "outputs": [
    {
     "name": "stdout",
     "output_type": "stream",
     "text": [
      "Compagnies qui n'opèrent pas sur tous les aéroports d'origine :\n",
      "   Compagnie  Nombre d'Aéroports Desservis\n",
      "2         AS                             1\n",
      "6         F9                             1\n",
      "7         FL                             1\n",
      "8         HA                             1\n",
      "10        OO                             2\n",
      "13        VX                             2\n",
      "14        WN                             2\n",
      "15        YV                             1\n"
     ]
    }
   ],
   "source": [
    "try:\n",
    "    # Étape 1 : Identifier tous les aéroports d'origine uniques\n",
    "    unique_origins = flights_data['origin'].nunique()\n",
    "\n",
    "    # Étape 2 : Compter le nombre d'aéroports d'origine desservis par chaque compagnie\n",
    "    origins_per_carrier = flights_data.groupby('carrier')['origin'].nunique().reset_index()\n",
    "\n",
    "    # Renommer les colonnes pour plus de clarté\n",
    "    origins_per_carrier.columns = ['Compagnie', 'Nombre d\\'Aéroports Desservis']\n",
    "\n",
    "    # Étape 3 : Identifier les compagnies qui n'opèrent pas sur tous les aéroports d'origine\n",
    "    airlines_not_serving_all_origins = origins_per_carrier[origins_per_carrier['Nombre d\\'Aéroports Desservis'] < unique_origins]\n",
    "\n",
    "    # Afficher le résultat\n",
    "    print(\"Compagnies qui n'opèrent pas sur tous les aéroports d'origine :\")\n",
    "    print(airlines_not_serving_all_origins)\n",
    "\n",
    "except Exception as e:\n",
    "    print(f\"Une erreur s'est produite lors de la lecture du fichier des vols : {e}\")\n"
   ]
  },
  {
   "cell_type": "markdown",
   "metadata": {},
   "source": [
    "Quelles sont les compagnies qui desservent l’ensemble de destinations ?"
   ]
  },
  {
   "cell_type": "code",
   "execution_count": 272,
   "metadata": {},
   "outputs": [
    {
     "name": "stdout",
     "output_type": "stream",
     "text": [
      "Compagnies qui desservent l'ensemble des destinations :\n",
      "Empty DataFrame\n",
      "Columns: [Compagnie, Nombre de Destinations Desservies]\n",
      "Index: []\n"
     ]
    }
   ],
   "source": [
    "try:\n",
    "    # Étape 1 : Identifier toutes les destinations uniques\n",
    "    unique_destinations = flights_data['dest'].nunique()\n",
    "\n",
    "    # Étape 2 : Compter le nombre de destinations uniques desservies par chaque compagnie\n",
    "    destinations_per_carrier = flights_data.groupby('carrier')['dest'].nunique().reset_index()\n",
    "\n",
    "    # Renommer les colonnes pour plus de clarté\n",
    "    destinations_per_carrier.columns = ['Compagnie', 'Nombre de Destinations Desservies']\n",
    "\n",
    "    # Étape 3 : Identifier les compagnies qui desservent toutes les destinations\n",
    "    airlines_serving_all_destinations = destinations_per_carrier[destinations_per_carrier['Nombre de Destinations Desservies'] == unique_destinations]\n",
    "\n",
    "    # Afficher le résultat\n",
    "    print(\"Compagnies qui desservent l'ensemble des destinations :\")\n",
    "    print(airlines_serving_all_destinations)\n",
    "\n",
    "except Exception as e:\n",
    "    print(f\"Une erreur s'est produite lors de la lecture du fichier des vols : {e}\")\n"
   ]
  },
  {
   "cell_type": "markdown",
   "metadata": {},
   "source": []
  },
  {
   "cell_type": "code",
   "execution_count": 273,
   "metadata": {},
   "outputs": [
    {
     "name": "stdout",
     "output_type": "stream",
     "text": [
      "Tableau des origines et destinations par compagnie :\n",
      "       Compagnie Aéroport d'Origine Aéroport de Destination\n",
      "0             UA                EWR                     IAH\n",
      "1             UA                LGA                     IAH\n",
      "2             AA                JFK                     MIA\n",
      "3             B6                JFK                     BQN\n",
      "4             DL                LGA                     ATL\n",
      "...          ...                ...                     ...\n",
      "235071        MQ                LGA                     TVC\n",
      "235657        9E                LGA                     BTV\n",
      "235826        EV                LGA                     MYR\n",
      "235891        OO                EWR                     DTW\n",
      "242117        EV                LGA                     TVC\n",
      "\n",
      "[431 rows x 3 columns]\n"
     ]
    }
   ],
   "source": [
    "try:\n",
    "    # Étape 1 : Filtrer les colonnes nécessaires\n",
    "    orig_dest_data = flights_data[['carrier', 'origin', 'dest']]\n",
    "\n",
    "    # Étape 2 : Supprimer les doublons pour obtenir l'ensemble des origines et des destinations par compagnie\n",
    "    unique_orig_dest = orig_dest_data.drop_duplicates()\n",
    "\n",
    "    # Étape 3 : Renommer les colonnes pour plus de clarté (optionnel)\n",
    "    unique_orig_dest.columns = ['Compagnie', 'Aéroport d\\'Origine', 'Aéroport de Destination']\n",
    "\n",
    "    # Afficher le tableau final\n",
    "    print(\"Tableau des origines et destinations par compagnie :\")\n",
    "    print(unique_orig_dest)\n",
    "\n",
    "except Exception as e:\n",
    "    print(f\"Une erreur s'est produite lors de la lecture du fichier des vols : {e}\")\n"
   ]
  },
  {
   "cell_type": "markdown",
   "metadata": {},
   "source": [
    "Quelles sont les destinations qui sont exclusives à certaines compagnies ? "
   ]
  },
  {
   "cell_type": "code",
   "execution_count": 274,
   "metadata": {},
   "outputs": [
    {
     "name": "stdout",
     "output_type": "stream",
     "text": [
      "Destinations exclusives à certaines compagnies :\n",
      "       Compagnie Destination\n",
      "50            UA         SNA\n",
      "143           EV         MYR\n",
      "156           WN         MDW\n",
      "269           EV         SAV\n",
      "288           FL         CAK\n",
      "344           B6         LGB\n",
      "360           EV         ALB\n",
      "384           EV         MSN\n",
      "387           EV         GSO\n",
      "411           B6         BUR\n",
      "671           MQ         CRW\n",
      "695           B6         OAK\n",
      "714           B6         SMF\n",
      "733           EV         TUL\n",
      "754           EV         OKC\n",
      "802           EV         PVD\n",
      "835           B6         PSE\n",
      "1716          EV         BHM\n",
      "3758          UA         HDN\n",
      "3781          UA         BZN\n",
      "3796          UA         MTJ\n",
      "3861          DL         EYW\n",
      "3866          VX         PSP\n",
      "27377         B6         ACK\n",
      "27881         B6         ABQ\n",
      "27927         EV         ILM\n",
      "43734         EV         SBN\n",
      "77948         9E         LEX\n",
      "137120        EV         CHO\n"
     ]
    }
   ],
   "source": [
    "try:\n",
    "    destination_counts = flights_data.groupby('dest')['carrier'].nunique().reset_index()\n",
    "\n",
    "    exclusive_destinations = destination_counts[destination_counts['carrier'] == 1]\n",
    "\n",
    "    exclusive_dest_info = flights_data[flights_data['dest'].isin(exclusive_destinations['dest'])]\n",
    "\n",
    "    exclusive_dest_info = exclusive_dest_info[['carrier', 'dest']].drop_duplicates()\n",
    "\n",
    "    exclusive_dest_info.columns = ['Compagnie', 'Destination']\n",
    "\n",
    "    print(\"Destinations exclusives à certaines compagnies :\")\n",
    "    print(exclusive_dest_info)\n",
    "\n",
    "except Exception as e:\n",
    "    print(f\"Une erreur s'est produite lors de la lecture du fichier des vols : {e}\")\n"
   ]
  },
  {
   "cell_type": "markdown",
   "metadata": {},
   "source": [
    "Filtrer le vol pour trouver ceux exploités par United, American ou Delta ?"
   ]
  },
  {
   "cell_type": "code",
   "execution_count": 275,
   "metadata": {},
   "outputs": [
    {
     "name": "stdout",
     "output_type": "stream",
     "text": [
      "Nombre total de vols exploités par United, American ou Delta : 104742\n",
      "   year  month  day  dep_time  sched_dep_time dep_delay arr_time  \\\n",
      "0  2021      1    1     517.0             515         2      830   \n",
      "1  2021      1    1     533.0             529         4      850   \n",
      "2  2021      1    1     542.0             540         2      923   \n",
      "4  2021      1    1     554.0             600        -6      812   \n",
      "5  2021      1    1     554.0             558        -4      740   \n",
      "\n",
      "   sched_arr_time arr_delay carrier  ...  tailnum origin dest air_time  \\\n",
      "0             819        11      UA  ...   N14228    EWR  IAH      227   \n",
      "1             830        20      UA  ...   N24211    LGA  IAH      227   \n",
      "2             850        33      AA  ...   N619AA    JFK  MIA      160   \n",
      "4             837       -25      DL  ...   N668DN    LGA  ATL      116   \n",
      "5             728        12      UA  ...   N39463    EWR  ORD      150   \n",
      "\n",
      "  distance  hour  minute             time_hour  origin_airport_name  \\\n",
      "0     1400     5      15  2021-01-01T05:00:00Z  Newark Liberty Intl   \n",
      "1     1416     5      29  2021-01-01T05:00:00Z           La Guardia   \n",
      "2     1089     5      40  2021-01-01T05:00:00Z  John F Kennedy Intl   \n",
      "4      762     6       0  2021-01-01T06:00:00Z           La Guardia   \n",
      "5      719     5      58  2021-01-01T05:00:00Z  Newark Liberty Intl   \n",
      "\n",
      "                 dest_airport_name  \n",
      "0     George Bush Intercontinental  \n",
      "1     George Bush Intercontinental  \n",
      "2                       Miami Intl  \n",
      "4  Hartsfield Jackson Atlanta Intl  \n",
      "5               Chicago Ohare Intl  \n",
      "\n",
      "[5 rows x 21 columns]\n"
     ]
    }
   ],
   "source": [
    "try:\n",
    "    airlines_to_filter = ['UA', 'AA', 'DL']\n",
    "\n",
    "    filtered_flights = flights_data[flights_data['carrier'].isin(airlines_to_filter)]\n",
    "\n",
    "    print(f\"Nombre total de vols exploités par United, American ou Delta : {filtered_flights.shape[0]}\")\n",
    "    \n",
    "    print(filtered_flights.head())\n",
    "\n",
    "except Exception as e:\n",
    "    print(f\"Une erreur s'est produite lors de la lecture du fichier des vols : {e}\")\n"
   ]
  }
 ],
 "metadata": {
  "kernelspec": {
   "display_name": "base",
   "language": "python",
   "name": "python3"
  },
  "language_info": {
   "codemirror_mode": {
    "name": "ipython",
    "version": 3
   },
   "file_extension": ".py",
   "mimetype": "text/x-python",
   "name": "python",
   "nbconvert_exporter": "python",
   "pygments_lexer": "ipython3",
   "version": "3.12.4"
  }
 },
 "nbformat": 4,
 "nbformat_minor": 2
}
